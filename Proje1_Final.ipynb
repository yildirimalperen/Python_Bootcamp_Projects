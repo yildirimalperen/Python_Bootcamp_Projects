{
 "cells": [
  {
   "cell_type": "code",
   "execution_count": 30,
   "metadata": {},
   "outputs": [],
   "source": [
    "import pandas as pd\n",
    "import numpy as np\n",
    "import random\n",
    "import names"
   ]
  },
  {
   "cell_type": "code",
   "execution_count": 33,
   "metadata": {},
   "outputs": [],
   "source": [
    "first_name_list = []\n",
    "last_name_list = []\n",
    "student_id_list = []\n",
    "grade_score_list = []\n",
    "student_count = 20\n",
    "id_list =range(100,200)\n",
    "for i in range(student_count):\n",
    "    first_name_list.append(names.get_first_name())\n",
    "    last_name_list.append(names.get_last_name())\n",
    "    student_id_list.append(random.choice(id_list))\n",
    "    grade_score_list.append(random.randint(45,100))\n",
    "\n",
    "zipped = list(zip(first_name_list,last_name_list,student_id_list,grade_score_list))\n",
    "df = pd.DataFrame(zipped, columns=[\"First Name\",\"Last Name\",\"Student Id\",\"Grade Score\"])\n",
    "\n",
    "\n",
    "\n",
    "class Ogrenci():\n",
    "    def __init__(self,ad,soyad,okul_no,sinav_puani):\n",
    "        self.ad = ad\n",
    "        self.soyad = soyad\n",
    "        self.okul_no = okul_no\n",
    "        self.sinav_puani = sinav_puani\n",
    "\n",
    "    def results(self):\n",
    "        range_dictionary = RangeDict({range(85,100): 'A', range(75,85): 'B',range(60,75):\"C\",range(50,60):\"D\",range(0,50):\"F\"})\n",
    "        grade_dictionary = {\"A\":\"Başarılı\",\"B\":\"Başarılı\",\"C\":\"Başarılı\",\"D\":\"Başarılı\",\"F\":\"Başarısız\"}\n",
    "        for i in range(student_count):\n",
    "            print(f\"{objs[i].ad} {objs[i].soyad} isimli öğrenci {objs[i].sinav_puani} alarak {range_dictionary[objs[i].sinav_puani]} harf notu aldı. Sonuç: {grade_dictionary.__getitem__(range_dictionary[objs[i].sinav_puani])}\")\n",
    "\n",
    "class RangeDict(dict):\n",
    "    def __getitem__(self, item):\n",
    "        if not isinstance(item, range):\n",
    "            for key in self:\n",
    "                if item in key:\n",
    "                    return self[key]\n",
    "            raise KeyError(item)\n",
    "        else:\n",
    "            return super().__getitem__(item)\n",
    "\n",
    "\n",
    "\n",
    "    \n"
   ]
  },
  {
   "cell_type": "code",
   "execution_count": 38,
   "metadata": {},
   "outputs": [
    {
     "name": "stdout",
     "output_type": "stream",
     "text": [
      "Jason Henkel isimli öğrenci 64 alarak C harf notu aldı. Sonuç: Başarılı\n",
      "Andrea Goodale isimli öğrenci 92 alarak A harf notu aldı. Sonuç: Başarılı\n",
      "Fernando Miller isimli öğrenci 77 alarak B harf notu aldı. Sonuç: Başarılı\n",
      "Linwood Barbrick isimli öğrenci 72 alarak C harf notu aldı. Sonuç: Başarılı\n",
      "John Broker isimli öğrenci 81 alarak B harf notu aldı. Sonuç: Başarılı\n",
      "Max Powers isimli öğrenci 95 alarak A harf notu aldı. Sonuç: Başarılı\n",
      "Joshua Symons isimli öğrenci 82 alarak B harf notu aldı. Sonuç: Başarılı\n",
      "Rita Stone isimli öğrenci 47 alarak F harf notu aldı. Sonuç: Başarısız\n",
      "Ramona Turcotte isimli öğrenci 50 alarak D harf notu aldı. Sonuç: Başarılı\n",
      "Donald Newnam isimli öğrenci 95 alarak A harf notu aldı. Sonuç: Başarılı\n",
      "James Walters isimli öğrenci 92 alarak A harf notu aldı. Sonuç: Başarılı\n",
      "Dustin Knight isimli öğrenci 47 alarak F harf notu aldı. Sonuç: Başarısız\n",
      "Daisy Marino isimli öğrenci 56 alarak D harf notu aldı. Sonuç: Başarılı\n",
      "Jeffrey Anderson isimli öğrenci 55 alarak D harf notu aldı. Sonuç: Başarılı\n",
      "Margaret Barrow isimli öğrenci 90 alarak A harf notu aldı. Sonuç: Başarılı\n",
      "David Despard isimli öğrenci 76 alarak B harf notu aldı. Sonuç: Başarılı\n",
      "James Fike isimli öğrenci 56 alarak D harf notu aldı. Sonuç: Başarılı\n",
      "Teresa Corbett isimli öğrenci 60 alarak C harf notu aldı. Sonuç: Başarılı\n",
      "John Archer isimli öğrenci 88 alarak A harf notu aldı. Sonuç: Başarılı\n",
      "Rosetta Jorge isimli öğrenci 98 alarak A harf notu aldı. Sonuç: Başarılı\n"
     ]
    }
   ],
   "source": [
    "objs = list()\n",
    "for i in range(student_count):\n",
    "    objs.append(Ogrenci(df[\"First Name\"][i],df[\"Last Name\"][i],df[\"Student Id\"][i],df[\"Grade Score\"][i]))\n",
    "\n",
    "\n",
    "for i in range(1):\n",
    "    objs[i].results()\n",
    "\n",
    "import openpyxl\n",
    "Tablo = pd.DataFrame(zipped)\n",
    "Tablo.to_excel(\"tablo_1.xlsx\",sheet_name=\"Students\",index=False)"
   ]
  }
 ],
 "metadata": {
  "kernelspec": {
   "display_name": "Python 3.10.4 64-bit",
   "language": "python",
   "name": "python3"
  },
  "language_info": {
   "codemirror_mode": {
    "name": "ipython",
    "version": 3
   },
   "file_extension": ".py",
   "mimetype": "text/x-python",
   "name": "python",
   "nbconvert_exporter": "python",
   "pygments_lexer": "ipython3",
   "version": "3.10.4"
  },
  "orig_nbformat": 4,
  "vscode": {
   "interpreter": {
    "hash": "f61d1cb3b89c9f9e7480ad71bea7e0694b5d41d9d7598944eb545b322e942f3c"
   }
  }
 },
 "nbformat": 4,
 "nbformat_minor": 2
}
